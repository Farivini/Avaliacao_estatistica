{
  "nbformat": 4,
  "nbformat_minor": 0,
  "metadata": {
    "colab": {
      "private_outputs": true,
      "provenance": [],
      "authorship_tag": "ABX9TyNvAawc7st1Be4QhIr0dje+",
      "include_colab_link": true
    },
    "kernelspec": {
      "name": "ir",
      "display_name": "R"
    },
    "language_info": {
      "name": "R"
    }
  },
  "cells": [
    {
      "cell_type": "markdown",
      "metadata": {
        "id": "view-in-github",
        "colab_type": "text"
      },
      "source": [
        "<a href=\"https://colab.research.google.com/github/Farivini/Avaliacao_estatistica/blob/main/Avalia%C3%A7%C3%A3o_vendas_Vs.ipynb\" target=\"_parent\"><img src=\"https://colab.research.google.com/assets/colab-badge.svg\" alt=\"Open In Colab\"/></a>"
      ]
    },
    {
      "cell_type": "code",
      "execution_count": null,
      "metadata": {
        "id": "s0q4F7PALFwt"
      },
      "outputs": [],
      "source": [
        "# Instalar e carregar os pacotes necessários\n",
        "install.packages(\"ggplot2\")\n",
        "install.packages(\"dplyr\")"
      ]
    },
    {
      "cell_type": "code",
      "source": [
        "library(ggplot2)\n",
        "library(dplyr)"
      ],
      "metadata": {
        "id": "eYcnpLpwL_ZC"
      },
      "execution_count": null,
      "outputs": []
    },
    {
      "cell_type": "code",
      "source": [
        "Preco <- c(368.384514890573, 446.850186825816,\n",
        "           414.72765691978, 434.291090918223, 436.652686535348, 457.65797344255,\n",
        "           490.694346597566, 474.881781399868, 458.462395897205, 412.719412673294,\n",
        "           448.799032112411, 352.040747235864, 449.461858221104, 416.150953927119,\n",
        "           416.499426750268, 551.315803331779, 462.126789471159, 515.957335395508,\n",
        "           467.598697162974, 339.548470369391)\n",
        "\n",
        "Portas <- c(\"duas_portas\", \"quatro_portas\", \"duas_portas\", \"quatro_portas\", \"quatro_portas\",\n",
        "            \"duas_portas\", \"quatro_portas\", \"duas_portas\", \"quatro_portas\",\n",
        "            \"duas_portas\", \"quatro_portas\", \"quatro_portas\", \"duas_portas\",\n",
        "            \"quatro_portas\", \"duas_portas\", \"quatro_portas\", \"quatro_portas\",\n",
        "            \"duas_portas\", \"quatro_portas\", \"quatro_portas\")\n",
        "\n",
        "Ar_Condicionado <- c(\"sem_ar_condicionado\",  \"com_ar_condicionado\", \"com_ar_condicionado\", \"com_ar_condicionado\",\n",
        "                     \"com_ar_condicionado\", \"com_ar_condicionado\", \"com_ar_condicionado\",\n",
        "                     \"com_ar_condicionado\", \"com_ar_condicionado\", \"com_ar_condicionado\",\n",
        "                     \"com_ar_condicionado\", \"sem_ar_condicionado\", \"com_ar_condicionado\",\n",
        "                     \"com_ar_condicionado\", \"com_ar_condicionado\", \"com_ar_condicionado\",\n",
        "                     \"com_ar_condicionado\", \"com_ar_condicionado\", \"com_ar_condicionado\",\n",
        "                     \"sem_ar_condicionado\")\n",
        "\n",
        "Quadrimestre <- c(\"segundo_quadrimestre\",\"segundo_quadrimestre\", \"segundo_quadrimestre\", \"segundo_quadrimestre\",\n",
        "                  \"segundo_quadrimestre\", \"terceiro_quadrimestre\", \"primeiro_quadrimestre\",\n",
        "                  \"primeiro_quadrimestre\", \"terceiro_quadrimestre\", \"segundo_quadrimestre\",\n",
        "                  \"terceiro_quadrimestre\", \"segundo_quadrimestre\", \"terceiro_quadrimestre\",\n",
        "                  \"segundo_quadrimestre\", \"segundo_quadrimestre\", \"primeiro_quadrimestre\",\n",
        "                  \"terceiro_quadrimestre\", \"primeiro_quadrimestre\", \"primeiro_quadrimestre\",\n",
        "                  \"segundo_quadrimestre\")\n",
        "\n",
        "Idade_Locatario <- c(23, 18, 28, 21, 18, 21, 18, 20, 25, 29, 18, 33, 20, 21, 18, 21, 18, 20, 25, 29)\n",
        "\n",
        "Quilometragem <- c(957.442780544097, 829.533278217768, 923.300215829467, 871.519116905113,\n",
        "                   930.704105677958, 554.696695914233, 501.941059782271, 665.435074822519,\n",
        "                   568.24079543466, 930.704105677958, 554.696695914233, 829.533278217768,\n",
        "                   665.435074822519, 871.519116905113, 930.704105677958, 351.547138218644,\n",
        "                   501.941059782271, 447.872006186523, 568.24079543466, 930.704105677958)\n",
        "\n",
        "Dolar <- c(4.41147933990862, 5.63014407874318,\n",
        "           8.80557934010615, 4.260591319988649, 6.93416279643155, 1.61130694543154,\n",
        "           2.57813244655973, 4.66666728709914, 1.6846066723224, 7.33872353619711,\n",
        "           4.52300814589177, 2.96689816205009, 9.91448182957733, 8.55577847959413,\n",
        "           5.93424935955983, 5.55775429484673, 6.94475470863839, 4.74330294976712,\n",
        "           4.723306965757987, 4.7010894862212)\n",
        "\n",
        "# Criar um data frame com as variáveis\n",
        "dados <- data.frame(Preco, Portas, Ar_Condicionado, Quadrimestre, Idade_Locatario, Quilometragem, Dolar)"
      ],
      "metadata": {
        "id": "iB2EXPSBO4HN"
      },
      "execution_count": null,
      "outputs": []
    },
    {
      "cell_type": "markdown",
      "source": [
        "Este relatório apresenta a análise de um conjunto de dados fornecido por uma empresa de aluguel de veículos. O objetivo do estudo é explorar as variáveis que influenciam o preço do aluguel dos veículos e verificar as relações entre essas variáveis e o preço. A análise foi conduzida utilizando técnicas estatísticas e de regressão linear e quadrática."
      ],
      "metadata": {
        "id": "KFFnXICaTIaE"
      }
    },
    {
      "cell_type": "markdown",
      "source": [
        "### Conjunto de Dados\n",
        "O conjunto de dados consiste em 20 observações aleatórias de locações de veículos, com as seguintes variáveis:\n",
        "- **Preço:** Valor do aluguel em reais (R$).\n",
        "- **Portas:** Número de portas do veículo (duas ou quatro portas).\n",
        "- **Ar Condicionado:** Presença de ar condicionado (com ou sem ar condicionado).- **Quadrimestre:** Quadrimestre do ano em que a locação ocorreu (primeiro, segundo ou terceiro quadrimestre).\n",
        "- **Idade do Locatário:** Idade do locatário em anos.\n",
        "- **Quilometragem:** Quilometragem do veículo no momento da locação."
      ],
      "metadata": {
        "id": "N8GcFn5ZTMBY"
      }
    },
    {
      "cell_type": "markdown",
      "source": [
        "### Análise do Preço\n",
        "1. **Histograma do Preço**\n",
        "   - O histograma mostra a distribuição dos preços de aluguel."
      ],
      "metadata": {
        "id": "2lNj7REhTo5W"
      }
    },
    {
      "cell_type": "code",
      "source": [
        "ggplot(dados, aes(x = Preco)) +\n",
        "  geom_histogram(binwidth = 20, fill = \"skyblue\", color = \"black\", alpha = 0.7) +\n",
        "  labs(title = \"Histograma do Preço\", x = \"Preço (R$)\", y = \"Frequência\") +\n",
        "  theme_minimal()\n",
        "\n",
        "\n",
        "summary(dados$Preco)"
      ],
      "metadata": {
        "id": "ktH_0d6DPDbp"
      },
      "execution_count": null,
      "outputs": []
    },
    {
      "cell_type": "markdown",
      "source": [
        "2. **Boxplot do Preço**\n",
        "   - O boxplot visualiza a dispersão e possíveis outliers nos preços de aluguel (sendo um ao extremo superior e outro extremo inferior)"
      ],
      "metadata": {
        "id": "hERWEaR1UJDS"
      }
    },
    {
      "cell_type": "code",
      "source": [
        "ggplot(dados, aes(y = Preco)) +\n",
        "  geom_boxplot(fill = \"lightgreen\", color = \"black\", alpha = 0.7) +\n",
        "  labs(title = \"Boxplot do Preço\", y = \"Preço (R$)\") +\n",
        "  theme_minimal()\n"
      ],
      "metadata": {
        "id": "zyjhRl4OPH9E"
      },
      "execution_count": null,
      "outputs": []
    },
    {
      "cell_type": "code",
      "source": [
        "summary(Preco)"
      ],
      "metadata": {
        "id": "o239Nj3LViAK"
      },
      "execution_count": null,
      "outputs": []
    },
    {
      "cell_type": "markdown",
      "source": [
        "3. **Estatísticas Descritivas do Preço**\n",
        "        Média: R$ 440,7\n",
        "        Mínimo: R$ 339,5\n",
        "        Primeiro Quartil: R$ 415,8\n",
        "        Mediana: R$ 447,8\n",
        "        Terceiro Quartil: R$ 463,5\n",
        "        Máximo: R$ 551,3\n",
        "\n"
      ],
      "metadata": {
        "id": "jIvqVVnHUhJH"
      }
    },
    {
      "cell_type": "markdown",
      "source": [
        "### Relação entre Preço e Quadrimestre\n",
        "1. **Boxplot entre Preço e Quadrimestre**"
      ],
      "metadata": {
        "id": "44mKiwH_VqKk"
      }
    },
    {
      "cell_type": "code",
      "source": [
        "ggplot(dados, aes(x = Quadrimestre, y = Preco)) +\n",
        "  geom_boxplot(fill = \"lightcoral\", color = \"black\", alpha = 0.7) +\n",
        "  labs(title = \"Boxplot do Preço por Quadrimestre\", x = \"Quadrimestre\", y = \"Preço (R$)\") +\n",
        "  theme_minimal()\n"
      ],
      "metadata": {
        "id": "OnL0kEdOPT1h"
      },
      "execution_count": null,
      "outputs": []
    },
    {
      "cell_type": "markdown",
      "source": [
        "2. **Análise de Variância (ANOVA)**\n",
        "   - Objetivo:\n",
        "Avaliar se os preços dos carros variam significativamente entre diferentes quadrimestres do ano.\n",
        "\n",
        "\n",
        "   - Conclusão: Existe uma diferença significativa entre o preço médio de pelo menos um quadrimestre em relação aos outros, pois vamos interpretar que para rejeitar uma hipotese nula o p-valor tem de ser menor que 0,05 e no nosso caso ele esta em 0,000126, entao aceitamos que existe variação siginificativa do preço em algum dos quadrimestres em relação a outros, com 95% de confiança.\n",
        "   \n",
        "   \n",
        "   \n",
        "   \n",
        "   \n",
        "   \n",
        "   \n",
        "   - Resumo :\n",
        "A análise indica que os preços dos carros variam significativamente entre os quadrimestres do ano. Isso sugere que fatores sazonais podem estar influenciando os preços.\n"
      ],
      "metadata": {
        "id": "heiwPCB2V2_E"
      }
    },
    {
      "cell_type": "code",
      "source": [
        "# Realiza analise de variancia\n",
        "anova <- aov(Preco ~ Quadrimestre, data = dados)\n",
        "summary(anova)"
      ],
      "metadata": {
        "id": "5Vd7I0opRd9K"
      },
      "execution_count": null,
      "outputs": []
    },
    {
      "cell_type": "markdown",
      "source": [
        "### Relação entre Preço e Portas\n",
        "\n",
        "2. **Para esse vou usar o Teste t de Student porque tenho apenas duas categorias 2 portas ou 4 portas**\n",
        "\n",
        " - Objetivo:\n",
        "Avaliar se os preços dos carros variam significativamente entre diferentes categorias diferentes de quantidade de portas.\n",
        "\n",
        "\n"
      ],
      "metadata": {
        "id": "eoUFGOW8X0u6"
      }
    },
    {
      "cell_type": "code",
      "source": [
        "ggplot(dados, aes(x = Portas, y = Preco)) +\n",
        "  geom_boxplot(fill = \"lightblue\", color = \"black\", alpha = 0.7) +\n",
        "  labs(title = \"Boxplot do Preço por Portas\", x = \"Portas\", y = \"Preço (R$)\") +\n",
        "  theme_minimal()\n"
      ],
      "metadata": {
        "id": "BvLeT1x8PV73"
      },
      "execution_count": null,
      "outputs": []
    },
    {
      "cell_type": "code",
      "source": [
        "# Realizar o teste t\n",
        "resultado <- t.test(dados$Preco ~ dados$Portas,\n",
        "                    alternative = 'two.sided',\n",
        "                    conf.level = 0.95)\n",
        "\n",
        "# Criar uma tabela com os resultados\n",
        "tabela_resultado <- data.frame(\n",
        "  Estatística = c(\"Tipo de Teste\", \"Nível de Confiança\", \"Estatística t (t-statistic)\",\n",
        "                  \"Graus de Liberdade (df)\", \"Valor p (p-value)\",\n",
        "                  \"Intervalo de Confiança 95%\", \"Média do Grupo 1\", \"Média do Grupo 2\"),\n",
        "  Valor = c(\"Bilateral (two.sided)\", \"95%\",\n",
        "            round(resultado$statistic, 3), resultado$parameter,\n",
        "            round(resultado$p.value, 3),\n",
        "            paste0(round(resultado$conf.int[1], 3), \", \", round(resultado$conf.int[2], 3)),\n",
        "            round(resultado$estimate[1], 3), round(resultado$estimate[2], 3))\n",
        ")\n",
        "\n",
        "# Printar a tabela\n",
        "print(tabela_resultado)\n"
      ],
      "metadata": {
        "id": "UfD6BGLHRqXc"
      },
      "execution_count": null,
      "outputs": []
    },
    {
      "cell_type": "markdown",
      "source": [
        "- O valor p obtido foi 0.888, muito maior que o limite de 0.05 geralmente utilizado para determinar significância estatistica. Isso indica que não ha uma diferença estatisticamente significativa entre os preços dos carros com duas portas e quatro portas. Além disso, o intervalo de confiança de 95% inclui zero, o que reforça a conclusão de que a diferença observada nas médias não é significativa.\n",
        "\n",
        "- Resumo que a quantidade nao influencia na variavel do preço"
      ],
      "metadata": {
        "id": "94herf4ph40h"
      }
    },
    {
      "cell_type": "markdown",
      "source": [
        "### Relação entre Preço e Quilometragem\n",
        "  - Quanto da variação do preço a variavel quilometragem consegue explica?\n",
        "  "
      ],
      "metadata": {
        "id": "XGusmEBCh_Wl"
      }
    },
    {
      "cell_type": "code",
      "source": [
        "\n",
        "\n",
        "plot(dados$Quilometragem, dados$Preco, main=\"Dispersão entre Preço e Quilometragem\",\n",
        "     xlab=\"Quilometragem\", ylab=\"Preço\", pch=16)\n",
        "\n",
        "# Coeficiente de correlacao\n",
        "cor(dados$Preco, dados$Quilometragem)"
      ],
      "metadata": {
        "id": "cy28RmjqR6AT"
      },
      "execution_count": null,
      "outputs": []
    },
    {
      "cell_type": "markdown",
      "source": [
        "  - Existe uma correlação forte negativa"
      ],
      "metadata": {
        "id": "l4-7760Fiwu_"
      }
    },
    {
      "cell_type": "markdown",
      "source": [
        "  - Trazendo resultado da regressão linear\n"
      ],
      "metadata": {
        "id": "JUmbhLq8i6ZU"
      }
    },
    {
      "cell_type": "code",
      "source": [
        "# Carregar pacotes necessários (se ainda não estiverem carregados)\n",
        "library(broom)\n",
        "library(knitr)\n",
        "\n",
        "# Ajuste da regressão linear\n",
        "regressao_linear <- lm(Preco ~ Quilometragem, data = dados)\n",
        "\n",
        "# Formataçãodamento\n",
        "cat(\"\\nTabela de Coeficientes (Arredondada):\\n\\n\")\n",
        "kable(tidy(regressao_linear), digits = 3)\n",
        "\n",
        "cat(\"\\nEstatísticas do Modelo:\\n\\n\")\n",
        "kable(glance(regressao_linear), digits = 3)"
      ],
      "metadata": {
        "id": "KC4T7Vf_hFGN"
      },
      "execution_count": null,
      "outputs": []
    },
    {
      "cell_type": "code",
      "source": [
        "ggplot(dados, aes(x = Quilometragem, y = Preco)) +\n",
        "  geom_point(color = \"blue\") +\n",
        "  geom_smooth(method = \"lm\", formula = y ~ poly(x, 2), se = FALSE, color = \"red\") +\n",
        "  labs(title = \"Dispersão entre Preço e Quilometragem com Curva Quadrática\", x = \"Quilometragem (KM)\", y = \"Preço (R$)\") +\n",
        "  theme_minimal()\n"
      ],
      "metadata": {
        "id": "d1rmhX1XPjzJ"
      },
      "execution_count": null,
      "outputs": []
    },
    {
      "cell_type": "markdown",
      "source": [
        "  - Quilometragem: -0.21065\n",
        "Este é o coeficiente angular da reta de regressão. Ele indica que, para cada **aumento de 1 km na quilometragem, o preço do veículo diminui em R$ 0,21065 (em média)**.\n",
        "\n",
        "  - R-squared: 0.6776\n",
        "**Indica que 67.76% da variação no Preço pode ser explicada pela Quilometragem. É um valor razoável, sugerindo que o modelo captura uma boa parte da relação entre as variáveis.**\n",
        "\n",
        "\n",
        "  - O p-valor muito baixo indica que esse coeficiente também é altamente significativo, confirmando que a quilometragem tem um impacto real no preço."
      ],
      "metadata": {
        "id": "7GtRQnILjpLW"
      }
    },
    {
      "cell_type": "markdown",
      "source": [],
      "metadata": {
        "id": "VWU7QQDfhwKx"
      }
    }
  ]
}